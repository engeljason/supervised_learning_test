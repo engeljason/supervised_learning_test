{
 "cells": [
  {
   "cell_type": "code",
   "execution_count": 1,
   "source": [
    "import numpy as np\r\n",
    "import pandas as pd\r\n",
    "from pathlib import Path"
   ],
   "outputs": [],
   "metadata": {}
  },
  {
   "cell_type": "code",
   "execution_count": 2,
   "source": [
    "train_df = pd.read_csv(Path('Resources/Generator/2019loans.csv'))\r\n",
    "test_df = pd.read_csv(Path('Resources/Generator/2020Q1loans.csv'))"
   ],
   "outputs": [],
   "metadata": {}
  },
  {
   "cell_type": "code",
   "execution_count": 3,
   "source": [
    "# Convert categorical data to numeric and separate target feature for training data\r\n",
    "ry = pd.get_dummies(train_df['target'])['high_risk']\r\n",
    "rtrimmed = train_df.drop('target', axis=1)\r\n",
    "rX = pd.get_dummies(rtrimmed)\r\n",
    "\r\n",
    "# Convert categorical data to numeric and separate target feature for testing data\r\n",
    "sy = pd.get_dummies(test_df['target'])['high_risk']\r\n",
    "strimmed = test_df.drop('target', axis=1)\r\n",
    "sX = pd.get_dummies(strimmed)\r\n"
   ],
   "outputs": [],
   "metadata": {}
  },
  {
   "cell_type": "code",
   "execution_count": 4,
   "source": [
    "# test for missing dummy variables in sets\r\n",
    "missing = []\r\n",
    "for label in rX.columns:\r\n",
    "    if label not in sX.columns:\r\n",
    "        missing.append(label)\r\n",
    "print(missing)\r\n",
    "# confirm only rdum has missing values\r\n",
    "print(set(rX.columns) ^ set(sX.columns))\r\n",
    "\r\n",
    "# add missing dummy variables to testing set\r\n",
    "for column in missing:\r\n",
    "    sX[column] = 0\r\n",
    "\r\n",
    "# confirm values are now symmetric\r\n",
    "print(set(rX.columns) ^ set(sX.columns))"
   ],
   "outputs": [
    {
     "output_type": "stream",
     "name": "stdout",
     "text": [
      "['debt_settlement_flag_Y']\n",
      "{'debt_settlement_flag_Y'}\n",
      "set()\n"
     ]
    }
   ],
   "metadata": {}
  },
  {
   "cell_type": "code",
   "execution_count": 14,
   "source": [
    "# Train the Logistic Regression model on the unscaled data and print the model score\r\n",
    "from sklearn.linear_model import LogisticRegression\r\n",
    "classifier = LogisticRegression(max_iter=20000)\r\n",
    "classifier.fit(rX, ry)\r\n",
    "print(f\"Training Data Score: {classifier.score(rX, ry)}\")\r\n",
    "print(f\"Testing Data Score: {classifier.score(sX, sy)}\")"
   ],
   "outputs": [
    {
     "output_type": "stream",
     "name": "stdout",
     "text": [
      "Training Data Score: 0.7087848932676519\n",
      "Testing Data Score: 0.5652913653764355\n"
     ]
    }
   ],
   "metadata": {}
  },
  {
   "cell_type": "code",
   "execution_count": 6,
   "source": [
    "# Train a Random Forest Classifier model and print the model score\r\n"
   ],
   "outputs": [],
   "metadata": {}
  },
  {
   "cell_type": "code",
   "execution_count": 7,
   "source": [
    "# Scale the data"
   ],
   "outputs": [],
   "metadata": {}
  },
  {
   "cell_type": "code",
   "execution_count": 8,
   "source": [
    "# Train the Logistic Regression model on the scaled data and print the model score"
   ],
   "outputs": [],
   "metadata": {}
  },
  {
   "cell_type": "code",
   "execution_count": 9,
   "source": [
    "# Train a Random Forest Classifier model on the scaled data and print the model score"
   ],
   "outputs": [],
   "metadata": {}
  }
 ],
 "metadata": {
  "kernelspec": {
   "name": "python3",
   "display_name": "Python 3.6.10 64-bit ('PythonData': conda)"
  },
  "language_info": {
   "codemirror_mode": {
    "name": "ipython",
    "version": 3
   },
   "file_extension": ".py",
   "mimetype": "text/x-python",
   "name": "python",
   "nbconvert_exporter": "python",
   "pygments_lexer": "ipython3",
   "version": "3.6.10"
  },
  "interpreter": {
   "hash": "79264824c40396a64d10485446bbc394f17a77ecfe3bed33e1bfdf8fe75a4647"
  }
 },
 "nbformat": 4,
 "nbformat_minor": 4
}